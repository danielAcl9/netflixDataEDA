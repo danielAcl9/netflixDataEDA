{
 "cells": [
  {
   "cell_type": "code",
   "execution_count": 11,
   "metadata": {},
   "outputs": [],
   "source": [
    "import pandas as pd"
   ]
  },
  {
   "cell_type": "code",
   "execution_count": 12,
   "metadata": {},
   "outputs": [],
   "source": [
    "# Import data and check the dataset structure\n",
    "df = pd.read_csv('netflix_titles.csv')"
   ]
  },
  {
   "cell_type": "markdown",
   "metadata": {},
   "source": [
    "### **Data Cleaning**"
   ]
  },
  {
   "cell_type": "markdown",
   "metadata": {},
   "source": [
    "**Treat the Nulls - Null Value Assessment**"
   ]
  },
  {
   "cell_type": "code",
   "execution_count": 13,
   "metadata": {},
   "outputs": [
    {
     "data": {
      "text/plain": [
       "show_id            0\n",
       "type               0\n",
       "title              0\n",
       "director        2634\n",
       "cast             825\n",
       "country          831\n",
       "date_added        10\n",
       "release_year       0\n",
       "rating             4\n",
       "duration           3\n",
       "listed_in          0\n",
       "description        0\n",
       "dtype: int64"
      ]
     },
     "execution_count": 13,
     "metadata": {},
     "output_type": "execute_result"
    }
   ],
   "source": [
    "# Check for missing values\n",
    "df.isnull().sum()"
   ]
  },
  {
   "cell_type": "markdown",
   "metadata": {},
   "source": [
    "**Drop rows with empty values**"
   ]
  },
  {
   "cell_type": "code",
   "execution_count": 14,
   "metadata": {},
   "outputs": [],
   "source": [
    "# Delete the rows where are empty values\n",
    "df.dropna(subset=['director', 'cast', 'country', 'date_added', 'rating', 'duration'], inplace=True)"
   ]
  },
  {
   "cell_type": "markdown",
   "metadata": {},
   "source": [
    "**Split the columns**"
   ]
  },
  {
   "cell_type": "code",
   "execution_count": 15,
   "metadata": {},
   "outputs": [],
   "source": [
    "# Separate the cast column into actor_1, actor_2, and actor_3\n",
    "df['actor_1'] = df['cast'].str.split(', ').str[0]\n",
    "df['actor_2'] = df['cast'].str.split(', ').str[1]\n",
    "df['actor_3'] = df['cast'].str.split(', ').str[2]\n",
    "\n",
    "# Separate the date_added column into month_added and year_added\n",
    "df['month_added']=df['date_added'].str.split(' ').str[0]\n",
    "df['year_added']=df['date_added'].str.split(', ').str[1]"
   ]
  },
  {
   "cell_type": "markdown",
   "metadata": {},
   "source": [
    "**Populate the missing rows**"
   ]
  },
  {
   "cell_type": "code",
   "execution_count": 16,
   "metadata": {},
   "outputs": [],
   "source": [
    "# Replace Null values with the word 'Empty'\n",
    "df.fillna('Empty', inplace=True)"
   ]
  },
  {
   "cell_type": "markdown",
   "metadata": {},
   "source": [
    "**Drop unneeded columns - Column Pruning**"
   ]
  },
  {
   "cell_type": "code",
   "execution_count": 17,
   "metadata": {},
   "outputs": [],
   "source": [
    "# Drop columns that are unneeded or do not provide relevant information\n",
    "df.drop(columns=['show_id', 'cast', 'date_added', 'description'], inplace=True)"
   ]
  },
  {
   "cell_type": "markdown",
   "metadata": {},
   "source": [
    "### **Issues to Address**"
   ]
  },
  {
   "cell_type": "markdown",
   "metadata": {},
   "source": [
    "**Data Type Conversion**"
   ]
  },
  {
   "cell_type": "code",
   "execution_count": 18,
   "metadata": {},
   "outputs": [
    {
     "data": {
      "text/plain": [
       "type            object\n",
       "title           object\n",
       "director        object\n",
       "country         object\n",
       "release_year     int64\n",
       "rating          object\n",
       "duration        object\n",
       "listed_in       object\n",
       "actor_1         object\n",
       "actor_2         object\n",
       "actor_3         object\n",
       "month_added     object\n",
       "year_added      object\n",
       "dtype: object"
      ]
     },
     "execution_count": 18,
     "metadata": {},
     "output_type": "execute_result"
    }
   ],
   "source": [
    "# Check the data types of the columns. All of them are strings except for release_year\n",
    "df.dtypes\n",
    "\n",
    "# Convert the column to str.\n",
    "# df['release_year'] = df['release_year'].astype(str)"
   ]
  },
  {
   "cell_type": "markdown",
   "metadata": {},
   "source": [
    "**Data Transformation**"
   ]
  },
  {
   "cell_type": "code",
   "execution_count": 19,
   "metadata": {},
   "outputs": [
    {
     "data": {
      "text/html": [
       "<div>\n",
       "<style scoped>\n",
       "    .dataframe tbody tr th:only-of-type {\n",
       "        vertical-align: middle;\n",
       "    }\n",
       "\n",
       "    .dataframe tbody tr th {\n",
       "        vertical-align: top;\n",
       "    }\n",
       "\n",
       "    .dataframe thead th {\n",
       "        text-align: right;\n",
       "    }\n",
       "</style>\n",
       "<table border=\"1\" class=\"dataframe\">\n",
       "  <thead>\n",
       "    <tr style=\"text-align: right;\">\n",
       "      <th></th>\n",
       "      <th>type</th>\n",
       "      <th>title</th>\n",
       "      <th>director</th>\n",
       "      <th>country</th>\n",
       "      <th>release_year</th>\n",
       "      <th>rating</th>\n",
       "      <th>duration</th>\n",
       "      <th>actor_1</th>\n",
       "      <th>actor_2</th>\n",
       "      <th>actor_3</th>\n",
       "      <th>month_added</th>\n",
       "      <th>year_added</th>\n",
       "      <th>first_listed_in</th>\n",
       "    </tr>\n",
       "  </thead>\n",
       "  <tbody>\n",
       "    <tr>\n",
       "      <th>7</th>\n",
       "      <td>Movie</td>\n",
       "      <td>Sankofa</td>\n",
       "      <td>Haile Gerima</td>\n",
       "      <td>United States, Ghana, Burkina Faso, United Kin...</td>\n",
       "      <td>1993</td>\n",
       "      <td>TV-MA</td>\n",
       "      <td>125 min</td>\n",
       "      <td>Kofi Ghanaba</td>\n",
       "      <td>Oyafunmike Ogunlano</td>\n",
       "      <td>Alexandra Duah</td>\n",
       "      <td>September</td>\n",
       "      <td>2021</td>\n",
       "      <td>Dramas</td>\n",
       "    </tr>\n",
       "    <tr>\n",
       "      <th>8</th>\n",
       "      <td>TV Show</td>\n",
       "      <td>The Great British Baking Show</td>\n",
       "      <td>Andy Devonshire</td>\n",
       "      <td>United Kingdom</td>\n",
       "      <td>2021</td>\n",
       "      <td>TV-14</td>\n",
       "      <td>9 Seasons</td>\n",
       "      <td>Mel Giedroyc</td>\n",
       "      <td>Sue Perkins</td>\n",
       "      <td>Mary Berry</td>\n",
       "      <td>September</td>\n",
       "      <td>2021</td>\n",
       "      <td>British TV Shows</td>\n",
       "    </tr>\n",
       "    <tr>\n",
       "      <th>9</th>\n",
       "      <td>Movie</td>\n",
       "      <td>The Starling</td>\n",
       "      <td>Theodore Melfi</td>\n",
       "      <td>United States</td>\n",
       "      <td>2021</td>\n",
       "      <td>PG-13</td>\n",
       "      <td>104 min</td>\n",
       "      <td>Melissa McCarthy</td>\n",
       "      <td>Chris O'Dowd</td>\n",
       "      <td>Kevin Kline</td>\n",
       "      <td>September</td>\n",
       "      <td>2021</td>\n",
       "      <td>Comedies</td>\n",
       "    </tr>\n",
       "    <tr>\n",
       "      <th>12</th>\n",
       "      <td>Movie</td>\n",
       "      <td>Je Suis Karl</td>\n",
       "      <td>Christian Schwochow</td>\n",
       "      <td>Germany, Czech Republic</td>\n",
       "      <td>2021</td>\n",
       "      <td>TV-MA</td>\n",
       "      <td>127 min</td>\n",
       "      <td>Luna Wedler</td>\n",
       "      <td>Jannis Niewöhner</td>\n",
       "      <td>Milan Peschel</td>\n",
       "      <td>September</td>\n",
       "      <td>2021</td>\n",
       "      <td>Dramas</td>\n",
       "    </tr>\n",
       "    <tr>\n",
       "      <th>24</th>\n",
       "      <td>Movie</td>\n",
       "      <td>Jeans</td>\n",
       "      <td>S. Shankar</td>\n",
       "      <td>India</td>\n",
       "      <td>1998</td>\n",
       "      <td>TV-14</td>\n",
       "      <td>166 min</td>\n",
       "      <td>Prashanth</td>\n",
       "      <td>Aishwarya Rai Bachchan</td>\n",
       "      <td>Sri Lakshmi</td>\n",
       "      <td>September</td>\n",
       "      <td>2021</td>\n",
       "      <td>Comedies</td>\n",
       "    </tr>\n",
       "    <tr>\n",
       "      <th>...</th>\n",
       "      <td>...</td>\n",
       "      <td>...</td>\n",
       "      <td>...</td>\n",
       "      <td>...</td>\n",
       "      <td>...</td>\n",
       "      <td>...</td>\n",
       "      <td>...</td>\n",
       "      <td>...</td>\n",
       "      <td>...</td>\n",
       "      <td>...</td>\n",
       "      <td>...</td>\n",
       "      <td>...</td>\n",
       "      <td>...</td>\n",
       "    </tr>\n",
       "    <tr>\n",
       "      <th>8801</th>\n",
       "      <td>Movie</td>\n",
       "      <td>Zinzana</td>\n",
       "      <td>Majid Al Ansari</td>\n",
       "      <td>United Arab Emirates, Jordan</td>\n",
       "      <td>2015</td>\n",
       "      <td>TV-MA</td>\n",
       "      <td>96 min</td>\n",
       "      <td>Ali Suliman</td>\n",
       "      <td>Saleh Bakri</td>\n",
       "      <td>Yasa</td>\n",
       "      <td>March</td>\n",
       "      <td>2016</td>\n",
       "      <td>Dramas</td>\n",
       "    </tr>\n",
       "    <tr>\n",
       "      <th>8802</th>\n",
       "      <td>Movie</td>\n",
       "      <td>Zodiac</td>\n",
       "      <td>David Fincher</td>\n",
       "      <td>United States</td>\n",
       "      <td>2007</td>\n",
       "      <td>R</td>\n",
       "      <td>158 min</td>\n",
       "      <td>Mark Ruffalo</td>\n",
       "      <td>Jake Gyllenhaal</td>\n",
       "      <td>Robert Downey Jr.</td>\n",
       "      <td>November</td>\n",
       "      <td>2019</td>\n",
       "      <td>Cult Movies</td>\n",
       "    </tr>\n",
       "    <tr>\n",
       "      <th>8804</th>\n",
       "      <td>Movie</td>\n",
       "      <td>Zombieland</td>\n",
       "      <td>Ruben Fleischer</td>\n",
       "      <td>United States</td>\n",
       "      <td>2009</td>\n",
       "      <td>R</td>\n",
       "      <td>88 min</td>\n",
       "      <td>Jesse Eisenberg</td>\n",
       "      <td>Woody Harrelson</td>\n",
       "      <td>Emma Stone</td>\n",
       "      <td>November</td>\n",
       "      <td>2019</td>\n",
       "      <td>Comedies</td>\n",
       "    </tr>\n",
       "    <tr>\n",
       "      <th>8805</th>\n",
       "      <td>Movie</td>\n",
       "      <td>Zoom</td>\n",
       "      <td>Peter Hewitt</td>\n",
       "      <td>United States</td>\n",
       "      <td>2006</td>\n",
       "      <td>PG</td>\n",
       "      <td>88 min</td>\n",
       "      <td>Tim Allen</td>\n",
       "      <td>Courteney Cox</td>\n",
       "      <td>Chevy Chase</td>\n",
       "      <td>January</td>\n",
       "      <td>2020</td>\n",
       "      <td>Children &amp; Family Movies</td>\n",
       "    </tr>\n",
       "    <tr>\n",
       "      <th>8806</th>\n",
       "      <td>Movie</td>\n",
       "      <td>Zubaan</td>\n",
       "      <td>Mozez Singh</td>\n",
       "      <td>India</td>\n",
       "      <td>2015</td>\n",
       "      <td>TV-14</td>\n",
       "      <td>111 min</td>\n",
       "      <td>Vicky Kaushal</td>\n",
       "      <td>Sarah-Jane Dias</td>\n",
       "      <td>Raaghav Chanana</td>\n",
       "      <td>March</td>\n",
       "      <td>2019</td>\n",
       "      <td>Dramas</td>\n",
       "    </tr>\n",
       "  </tbody>\n",
       "</table>\n",
       "<p>5332 rows × 13 columns</p>\n",
       "</div>"
      ],
      "text/plain": [
       "         type                          title             director  \\\n",
       "7       Movie                        Sankofa         Haile Gerima   \n",
       "8     TV Show  The Great British Baking Show      Andy Devonshire   \n",
       "9       Movie                   The Starling       Theodore Melfi   \n",
       "12      Movie                   Je Suis Karl  Christian Schwochow   \n",
       "24      Movie                          Jeans           S. Shankar   \n",
       "...       ...                            ...                  ...   \n",
       "8801    Movie                        Zinzana      Majid Al Ansari   \n",
       "8802    Movie                         Zodiac        David Fincher   \n",
       "8804    Movie                     Zombieland      Ruben Fleischer   \n",
       "8805    Movie                           Zoom         Peter Hewitt   \n",
       "8806    Movie                         Zubaan          Mozez Singh   \n",
       "\n",
       "                                                country  release_year rating  \\\n",
       "7     United States, Ghana, Burkina Faso, United Kin...          1993  TV-MA   \n",
       "8                                        United Kingdom          2021  TV-14   \n",
       "9                                         United States          2021  PG-13   \n",
       "12                              Germany, Czech Republic          2021  TV-MA   \n",
       "24                                                India          1998  TV-14   \n",
       "...                                                 ...           ...    ...   \n",
       "8801                       United Arab Emirates, Jordan          2015  TV-MA   \n",
       "8802                                      United States          2007      R   \n",
       "8804                                      United States          2009      R   \n",
       "8805                                      United States          2006     PG   \n",
       "8806                                              India          2015  TV-14   \n",
       "\n",
       "       duration           actor_1                 actor_2            actor_3  \\\n",
       "7       125 min      Kofi Ghanaba     Oyafunmike Ogunlano     Alexandra Duah   \n",
       "8     9 Seasons      Mel Giedroyc             Sue Perkins         Mary Berry   \n",
       "9       104 min  Melissa McCarthy            Chris O'Dowd        Kevin Kline   \n",
       "12      127 min       Luna Wedler        Jannis Niewöhner      Milan Peschel   \n",
       "24      166 min         Prashanth  Aishwarya Rai Bachchan        Sri Lakshmi   \n",
       "...         ...               ...                     ...                ...   \n",
       "8801     96 min       Ali Suliman             Saleh Bakri               Yasa   \n",
       "8802    158 min      Mark Ruffalo         Jake Gyllenhaal  Robert Downey Jr.   \n",
       "8804     88 min   Jesse Eisenberg         Woody Harrelson         Emma Stone   \n",
       "8805     88 min         Tim Allen           Courteney Cox        Chevy Chase   \n",
       "8806    111 min     Vicky Kaushal         Sarah-Jane Dias    Raaghav Chanana   \n",
       "\n",
       "     month_added year_added           first_listed_in  \n",
       "7      September       2021                    Dramas  \n",
       "8      September       2021          British TV Shows  \n",
       "9      September       2021                  Comedies  \n",
       "12     September       2021                    Dramas  \n",
       "24     September       2021                  Comedies  \n",
       "...          ...        ...                       ...  \n",
       "8801       March       2016                    Dramas  \n",
       "8802    November       2019               Cult Movies  \n",
       "8804    November       2019                  Comedies  \n",
       "8805     January       2020  Children & Family Movies  \n",
       "8806       March       2019                    Dramas  \n",
       "\n",
       "[5332 rows x 13 columns]"
      ]
     },
     "execution_count": 19,
     "metadata": {},
     "output_type": "execute_result"
    }
   ],
   "source": [
    "# Separate the listed_in column into the first listed and added to a new colummn\n",
    "df['first_listed_in'] = df['listed_in'].str.split(', ').str[0]\n",
    "df.drop(columns='listed_in')"
   ]
  },
  {
   "cell_type": "markdown",
   "metadata": {},
   "source": [
    "**Data Export**"
   ]
  },
  {
   "cell_type": "code",
   "execution_count": 20,
   "metadata": {},
   "outputs": [],
   "source": [
    "df.to_csv('netflix_titles_cleaned.csv', index=False)"
   ]
  }
 ],
 "metadata": {
  "language_info": {
   "name": "python"
  }
 },
 "nbformat": 4,
 "nbformat_minor": 2
}
