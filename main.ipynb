{
 "cells": [
  {
   "cell_type": "code",
   "execution_count": 45,
   "metadata": {},
   "outputs": [],
   "source": [
    "import pandas as pd"
   ]
  },
  {
   "cell_type": "code",
   "execution_count": 46,
   "metadata": {},
   "outputs": [],
   "source": [
    "# Import data and check the dataset structure\n",
    "df = pd.read_csv('netflix_titles.csv')"
   ]
  },
  {
   "cell_type": "markdown",
   "metadata": {},
   "source": [
    "### **Data Cleaning**"
   ]
  },
  {
   "cell_type": "markdown",
   "metadata": {},
   "source": [
    "**Treat the Nulls - Null Value Assessment**"
   ]
  },
  {
   "cell_type": "code",
   "execution_count": 47,
   "metadata": {},
   "outputs": [
    {
     "data": {
      "text/plain": [
       "show_id            0\n",
       "type               0\n",
       "title              0\n",
       "director        2634\n",
       "cast             825\n",
       "country          831\n",
       "date_added        10\n",
       "release_year       0\n",
       "rating             4\n",
       "duration           3\n",
       "listed_in          0\n",
       "description        0\n",
       "dtype: int64"
      ]
     },
     "execution_count": 47,
     "metadata": {},
     "output_type": "execute_result"
    }
   ],
   "source": [
    "# Check for missing values\n",
    "df.isnull().sum()"
   ]
  },
  {
   "cell_type": "markdown",
   "metadata": {},
   "source": [
    "**Drop rows with empty values**"
   ]
  },
  {
   "cell_type": "code",
   "execution_count": 48,
   "metadata": {},
   "outputs": [],
   "source": [
    "# Delete the rows where are empty values\n",
    "df.dropna(subset=['director', 'cast', 'country', 'date_added', 'rating', 'duration'], inplace=True)"
   ]
  },
  {
   "cell_type": "markdown",
   "metadata": {},
   "source": [
    "**Split the columns**"
   ]
  },
  {
   "cell_type": "code",
   "execution_count": 49,
   "metadata": {},
   "outputs": [],
   "source": [
    "# Separate the cast column into actor_1, actor_2, and actor_3\n",
    "df['actor_1'] = df['cast'].str.split(', ').str[0]\n",
    "df['actor_2'] = df['cast'].str.split(', ').str[1]\n",
    "df['actor_3'] = df['cast'].str.split(', ').str[2]\n",
    "\n",
    "# Separate the date_added column into month_added and year_added\n",
    "df['month_added']=df['date_added'].str.split(' ').str[0]\n",
    "df['year_added']=df['date_added'].str.split(', ').str[1]"
   ]
  },
  {
   "cell_type": "markdown",
   "metadata": {},
   "source": [
    "**Populate the missing rows**"
   ]
  },
  {
   "cell_type": "code",
   "execution_count": 50,
   "metadata": {},
   "outputs": [],
   "source": [
    "# Replace Null values with the word 'Empty'\n",
    "df.fillna('Empty', inplace=True)"
   ]
  },
  {
   "cell_type": "markdown",
   "metadata": {},
   "source": [
    "**Drop unneeded columns - Column Pruning**"
   ]
  },
  {
   "cell_type": "code",
   "execution_count": 51,
   "metadata": {},
   "outputs": [],
   "source": [
    "# Drop columns that are unneeded or do not provide relevant information\n",
    "df.drop(columns=['show_id', 'cast', 'date_added', 'description'], inplace=True)"
   ]
  },
  {
   "cell_type": "markdown",
   "metadata": {},
   "source": [
    "### **Issues to Address**"
   ]
  },
  {
   "cell_type": "markdown",
   "metadata": {},
   "source": [
    "**Data Type Conversion**"
   ]
  },
  {
   "cell_type": "code",
   "execution_count": 52,
   "metadata": {},
   "outputs": [
    {
     "data": {
      "text/plain": [
       "type            object\n",
       "title           object\n",
       "director        object\n",
       "country         object\n",
       "release_year     int64\n",
       "rating          object\n",
       "duration        object\n",
       "listed_in       object\n",
       "actor_1         object\n",
       "actor_2         object\n",
       "actor_3         object\n",
       "month_added     object\n",
       "year_added      object\n",
       "dtype: object"
      ]
     },
     "execution_count": 52,
     "metadata": {},
     "output_type": "execute_result"
    }
   ],
   "source": [
    "# Check the data types of the columns. All of them are strings except for release_year\n",
    "df.dtypes\n",
    "\n",
    "# Convert the column to str.\n",
    "# df['release_year'] = df['release_year'].astype(str)"
   ]
  },
  {
   "cell_type": "markdown",
   "metadata": {},
   "source": [
    "**Data Transformation**"
   ]
  },
  {
   "cell_type": "code",
   "execution_count": 53,
   "metadata": {},
   "outputs": [],
   "source": [
    "# Separate the listed_in column into the first listed and added to a new colummn\n",
    "df['first_listed_in'] = df['listed_in'].str.split(', ').str[0]\n",
    "df.drop(columns=['listed_in'], inplace=True)"
   ]
  },
  {
   "cell_type": "markdown",
   "metadata": {},
   "source": [
    "**Data Export**"
   ]
  },
  {
   "cell_type": "code",
   "execution_count": 54,
   "metadata": {},
   "outputs": [
    {
     "data": {
      "text/plain": [
       "type               object\n",
       "title              object\n",
       "director           object\n",
       "country            object\n",
       "release_year       object\n",
       "rating             object\n",
       "duration           object\n",
       "actor_1            object\n",
       "actor_2            object\n",
       "actor_3            object\n",
       "month_added        object\n",
       "year_added         object\n",
       "first_listed_in    object\n",
       "dtype: object"
      ]
     },
     "execution_count": 54,
     "metadata": {},
     "output_type": "execute_result"
    }
   ],
   "source": [
    "df['country'] = df['country'].str.split(', ').str[0]\n",
    "df['release_year'] = df['release_year'].astype(str)\n",
    "df['year_added'] = df['year_added'].astype(str)\n",
    "\n",
    "df.dtypes"
   ]
  },
  {
   "cell_type": "code",
   "execution_count": 55,
   "metadata": {},
   "outputs": [
    {
     "data": {
      "text/html": [
       "<div>\n",
       "<style scoped>\n",
       "    .dataframe tbody tr th:only-of-type {\n",
       "        vertical-align: middle;\n",
       "    }\n",
       "\n",
       "    .dataframe tbody tr th {\n",
       "        vertical-align: top;\n",
       "    }\n",
       "\n",
       "    .dataframe thead th {\n",
       "        text-align: right;\n",
       "    }\n",
       "</style>\n",
       "<table border=\"1\" class=\"dataframe\">\n",
       "  <thead>\n",
       "    <tr style=\"text-align: right;\">\n",
       "      <th></th>\n",
       "      <th>type</th>\n",
       "      <th>title</th>\n",
       "      <th>director</th>\n",
       "      <th>country</th>\n",
       "      <th>release_year</th>\n",
       "      <th>rating</th>\n",
       "      <th>duration</th>\n",
       "      <th>actor_1</th>\n",
       "      <th>actor_2</th>\n",
       "      <th>actor_3</th>\n",
       "      <th>month_added</th>\n",
       "      <th>year_added</th>\n",
       "      <th>first_listed_in</th>\n",
       "    </tr>\n",
       "  </thead>\n",
       "  <tbody>\n",
       "    <tr>\n",
       "      <th>7</th>\n",
       "      <td>Movie</td>\n",
       "      <td>Sankofa</td>\n",
       "      <td>Haile Gerima</td>\n",
       "      <td>United States</td>\n",
       "      <td>1993</td>\n",
       "      <td>TV-MA</td>\n",
       "      <td>125 min</td>\n",
       "      <td>Kofi Ghanaba</td>\n",
       "      <td>Oyafunmike Ogunlano</td>\n",
       "      <td>Alexandra Duah</td>\n",
       "      <td>September</td>\n",
       "      <td>2021</td>\n",
       "      <td>Dramas</td>\n",
       "    </tr>\n",
       "    <tr>\n",
       "      <th>8</th>\n",
       "      <td>TV Show</td>\n",
       "      <td>The Great British Baking Show</td>\n",
       "      <td>Andy Devonshire</td>\n",
       "      <td>United Kingdom</td>\n",
       "      <td>2021</td>\n",
       "      <td>TV-14</td>\n",
       "      <td>9 Seasons</td>\n",
       "      <td>Mel Giedroyc</td>\n",
       "      <td>Sue Perkins</td>\n",
       "      <td>Mary Berry</td>\n",
       "      <td>September</td>\n",
       "      <td>2021</td>\n",
       "      <td>British TV Shows</td>\n",
       "    </tr>\n",
       "    <tr>\n",
       "      <th>9</th>\n",
       "      <td>Movie</td>\n",
       "      <td>The Starling</td>\n",
       "      <td>Theodore Melfi</td>\n",
       "      <td>United States</td>\n",
       "      <td>2021</td>\n",
       "      <td>PG-13</td>\n",
       "      <td>104 min</td>\n",
       "      <td>Melissa McCarthy</td>\n",
       "      <td>Chris O'Dowd</td>\n",
       "      <td>Kevin Kline</td>\n",
       "      <td>September</td>\n",
       "      <td>2021</td>\n",
       "      <td>Comedies</td>\n",
       "    </tr>\n",
       "    <tr>\n",
       "      <th>12</th>\n",
       "      <td>Movie</td>\n",
       "      <td>Je Suis Karl</td>\n",
       "      <td>Christian Schwochow</td>\n",
       "      <td>Germany</td>\n",
       "      <td>2021</td>\n",
       "      <td>TV-MA</td>\n",
       "      <td>127 min</td>\n",
       "      <td>Luna Wedler</td>\n",
       "      <td>Jannis Niewöhner</td>\n",
       "      <td>Milan Peschel</td>\n",
       "      <td>September</td>\n",
       "      <td>2021</td>\n",
       "      <td>Dramas</td>\n",
       "    </tr>\n",
       "    <tr>\n",
       "      <th>24</th>\n",
       "      <td>Movie</td>\n",
       "      <td>Jeans</td>\n",
       "      <td>S. Shankar</td>\n",
       "      <td>India</td>\n",
       "      <td>1998</td>\n",
       "      <td>TV-14</td>\n",
       "      <td>166 min</td>\n",
       "      <td>Prashanth</td>\n",
       "      <td>Aishwarya Rai Bachchan</td>\n",
       "      <td>Sri Lakshmi</td>\n",
       "      <td>September</td>\n",
       "      <td>2021</td>\n",
       "      <td>Comedies</td>\n",
       "    </tr>\n",
       "  </tbody>\n",
       "</table>\n",
       "</div>"
      ],
      "text/plain": [
       "       type                          title             director  \\\n",
       "7     Movie                        Sankofa         Haile Gerima   \n",
       "8   TV Show  The Great British Baking Show      Andy Devonshire   \n",
       "9     Movie                   The Starling       Theodore Melfi   \n",
       "12    Movie                   Je Suis Karl  Christian Schwochow   \n",
       "24    Movie                          Jeans           S. Shankar   \n",
       "\n",
       "           country release_year rating   duration           actor_1  \\\n",
       "7    United States         1993  TV-MA    125 min      Kofi Ghanaba   \n",
       "8   United Kingdom         2021  TV-14  9 Seasons      Mel Giedroyc   \n",
       "9    United States         2021  PG-13    104 min  Melissa McCarthy   \n",
       "12         Germany         2021  TV-MA    127 min       Luna Wedler   \n",
       "24           India         1998  TV-14    166 min         Prashanth   \n",
       "\n",
       "                   actor_2         actor_3 month_added year_added  \\\n",
       "7      Oyafunmike Ogunlano  Alexandra Duah   September       2021   \n",
       "8              Sue Perkins      Mary Berry   September       2021   \n",
       "9             Chris O'Dowd     Kevin Kline   September       2021   \n",
       "12        Jannis Niewöhner   Milan Peschel   September       2021   \n",
       "24  Aishwarya Rai Bachchan     Sri Lakshmi   September       2021   \n",
       "\n",
       "     first_listed_in  \n",
       "7             Dramas  \n",
       "8   British TV Shows  \n",
       "9           Comedies  \n",
       "12            Dramas  \n",
       "24          Comedies  "
      ]
     },
     "execution_count": 55,
     "metadata": {},
     "output_type": "execute_result"
    }
   ],
   "source": [
    "df.head(5)"
   ]
  },
  {
   "cell_type": "code",
   "execution_count": 56,
   "metadata": {},
   "outputs": [
    {
     "data": {
      "text/html": [
       "<div>\n",
       "<style scoped>\n",
       "    .dataframe tbody tr th:only-of-type {\n",
       "        vertical-align: middle;\n",
       "    }\n",
       "\n",
       "    .dataframe tbody tr th {\n",
       "        vertical-align: top;\n",
       "    }\n",
       "\n",
       "    .dataframe thead th {\n",
       "        text-align: right;\n",
       "    }\n",
       "</style>\n",
       "<table border=\"1\" class=\"dataframe\">\n",
       "  <thead>\n",
       "    <tr style=\"text-align: right;\">\n",
       "      <th></th>\n",
       "      <th>type</th>\n",
       "      <th>count</th>\n",
       "    </tr>\n",
       "  </thead>\n",
       "  <tbody>\n",
       "    <tr>\n",
       "      <th>0</th>\n",
       "      <td>Movie</td>\n",
       "      <td>5185</td>\n",
       "    </tr>\n",
       "    <tr>\n",
       "      <th>1</th>\n",
       "      <td>TV Show</td>\n",
       "      <td>147</td>\n",
       "    </tr>\n",
       "  </tbody>\n",
       "</table>\n",
       "</div>"
      ],
      "text/plain": [
       "      type  count\n",
       "0    Movie   5185\n",
       "1  TV Show    147"
      ]
     },
     "execution_count": 56,
     "metadata": {},
     "output_type": "execute_result"
    }
   ],
   "source": [
    "df_titles = pd.DataFrame()\n",
    "df_titles['type'] = df['type'].unique()\n",
    "df_titles['count'] = df['type'].value_counts().values\n",
    "df_titles"
   ]
  },
  {
   "cell_type": "code",
   "execution_count": 57,
   "metadata": {},
   "outputs": [
    {
     "data": {
      "text/html": [
       "<div>\n",
       "<style scoped>\n",
       "    .dataframe tbody tr th:only-of-type {\n",
       "        vertical-align: middle;\n",
       "    }\n",
       "\n",
       "    .dataframe tbody tr th {\n",
       "        vertical-align: top;\n",
       "    }\n",
       "\n",
       "    .dataframe thead th {\n",
       "        text-align: right;\n",
       "    }\n",
       "</style>\n",
       "<table border=\"1\" class=\"dataframe\">\n",
       "  <thead>\n",
       "    <tr style=\"text-align: right;\">\n",
       "      <th></th>\n",
       "      <th>country</th>\n",
       "      <th>counter</th>\n",
       "    </tr>\n",
       "  </thead>\n",
       "  <tbody>\n",
       "    <tr>\n",
       "      <th>0</th>\n",
       "      <td>United States</td>\n",
       "      <td>2130</td>\n",
       "    </tr>\n",
       "    <tr>\n",
       "      <th>1</th>\n",
       "      <td>United Kingdom</td>\n",
       "      <td>910</td>\n",
       "    </tr>\n",
       "    <tr>\n",
       "      <th>2</th>\n",
       "      <td>Germany</td>\n",
       "      <td>346</td>\n",
       "    </tr>\n",
       "    <tr>\n",
       "      <th>3</th>\n",
       "      <td>India</td>\n",
       "      <td>166</td>\n",
       "    </tr>\n",
       "    <tr>\n",
       "      <th>4</th>\n",
       "      <td>China</td>\n",
       "      <td>145</td>\n",
       "    </tr>\n",
       "    <tr>\n",
       "      <th>...</th>\n",
       "      <td>...</td>\n",
       "      <td>...</td>\n",
       "    </tr>\n",
       "    <tr>\n",
       "      <th>74</th>\n",
       "      <td>Slovenia</td>\n",
       "      <td>1</td>\n",
       "    </tr>\n",
       "    <tr>\n",
       "      <th>75</th>\n",
       "      <td>Guatemala</td>\n",
       "      <td>1</td>\n",
       "    </tr>\n",
       "    <tr>\n",
       "      <th>76</th>\n",
       "      <td>Jamaica</td>\n",
       "      <td>1</td>\n",
       "    </tr>\n",
       "    <tr>\n",
       "      <th>77</th>\n",
       "      <td>Somalia</td>\n",
       "      <td>1</td>\n",
       "    </tr>\n",
       "    <tr>\n",
       "      <th>78</th>\n",
       "      <td>Croatia</td>\n",
       "      <td>1</td>\n",
       "    </tr>\n",
       "  </tbody>\n",
       "</table>\n",
       "<p>79 rows × 2 columns</p>\n",
       "</div>"
      ],
      "text/plain": [
       "           country  counter\n",
       "0    United States     2130\n",
       "1   United Kingdom      910\n",
       "2          Germany      346\n",
       "3            India      166\n",
       "4            China      145\n",
       "..             ...      ...\n",
       "74        Slovenia        1\n",
       "75       Guatemala        1\n",
       "76         Jamaica        1\n",
       "77         Somalia        1\n",
       "78         Croatia        1\n",
       "\n",
       "[79 rows x 2 columns]"
      ]
     },
     "execution_count": 57,
     "metadata": {},
     "output_type": "execute_result"
    }
   ],
   "source": [
    "df_countries = pd.DataFrame()\n",
    "df_countries['country'] = df['country'].unique()\n",
    "df_countries['counter'] = df['country'].value_counts().values\n",
    "df_countries"
   ]
  },
  {
   "cell_type": "code",
   "execution_count": 58,
   "metadata": {},
   "outputs": [],
   "source": [
    "df.to_csv('netflix_titles_cleaned.csv', index=False)\n",
    "df_titles.to_csv('netflix_titles_type.csv', index=False)\n",
    "df_countries.to_csv('netflix_titles_country.csv', index=False)"
   ]
  }
 ],
 "metadata": {
  "kernelspec": {
   "display_name": "Python 3",
   "language": "python",
   "name": "python3"
  },
  "language_info": {
   "codemirror_mode": {
    "name": "ipython",
    "version": 3
   },
   "file_extension": ".py",
   "mimetype": "text/x-python",
   "name": "python",
   "nbconvert_exporter": "python",
   "pygments_lexer": "ipython3",
   "version": "3.11.9"
  }
 },
 "nbformat": 4,
 "nbformat_minor": 2
}
